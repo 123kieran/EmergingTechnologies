{
 "cells": [
  {
   "cell_type": "markdown",
   "metadata": {},
   "source": [
    "# MNIST Dataset"
   ]
  },
  {
   "cell_type": "markdown",
   "metadata": {},
   "source": [
    "# Indroduction"
   ]
  },
  {
   "cell_type": "markdown",
   "metadata": {},
   "source": [
    "The MNIST data set is a simple computer vision dataset, It consists of 28x28 pixel images of handwritten digits. It has a training set of 60,000 examples, and a test set of 10,000 examples. It is a subset of a larger set available from NIST. The digits have been size-normalized and centered in a fixed-size image.\n",
    "In this notebook we will look at how to read the MNIST dataset efficiently into memory."
   ]
  },
  {
   "cell_type": "markdown",
   "metadata": {},
   "source": [
    "# Reading data"
   ]
  },
  {
   "cell_type": "markdown",
   "metadata": {},
   "source": [
    "Firstly we must decompress the files. We can be do this easily by using Pythons gzip module. This module provides a simple interface for dealing with compressed files with functions such as open(),compress(), and decompress()."
   ]
  },
  {
   "cell_type": "code",
   "execution_count": 4,
   "metadata": {},
   "outputs": [],
   "source": [
    "\n",
    "# Import gzip to unzip our files\n",
    "import gzip\n",
    "\n",
    "# Using gzip we just import, open the zip files contained in our data folder\n",
    "with gzip.open('data/t10k-images-idx3-ubyte.gz', 'rb') as file:\n",
    "    file_content = file.read()  \n"
   ]
  },
  {
   "cell_type": "code",
   "execution_count": 5,
   "metadata": {},
   "outputs": [
    {
     "data": {
      "text/plain": [
       "bytes"
      ]
     },
     "execution_count": 5,
     "metadata": {},
     "output_type": "execute_result"
    }
   ],
   "source": [
    "# Check the type of the data read in\n",
    "type(file_content)"
   ]
  },
  {
   "cell_type": "code",
   "execution_count": 6,
   "metadata": {},
   "outputs": [
    {
     "data": {
      "text/plain": [
       "b'\\x00\\x00\\x08\\x03'"
      ]
     },
     "execution_count": 6,
     "metadata": {},
     "output_type": "execute_result"
    }
   ],
   "source": [
    "# Print the first 4 elements of our file to make sure we're opening it properly\n",
    "file_content[0:4]"
   ]
  },
  {
   "cell_type": "markdown",
   "metadata": {},
   "source": [
    "# Read Image Data"
   ]
  },
  {
   "cell_type": "markdown",
   "metadata": {},
   "source": [
    "\n",
    "The first task is to try read the IDX files which are contained in the zipped folders.\n",
    "\n",
    "Each vector in the matrix consists of 784 pixels (28x28 pixel images). We can load each 784 set into a 28X28 numpy array as an unassigned 8 bit integer."
   ]
  },
  {
   "cell_type": "code",
   "execution_count": 11,
   "metadata": {},
   "outputs": [],
   "source": [
    "\n",
    "# Import numpy as np\n",
    "import numpy as np\n",
    "\n",
    "# convert data to 28x28 array\n",
    "image = ~np.array(list(file_content[800:1584])).reshape(28,28).astype(np.uint8)"
   ]
  },
  {
   "cell_type": "markdown",
   "metadata": {},
   "source": [
    "## Display Image"
   ]
  },
  {
   "cell_type": "code",
   "execution_count": 12,
   "metadata": {},
   "outputs": [
    {
     "data": {
      "text/plain": [
       "<matplotlib.image.AxesImage at 0x19983462978>"
      ]
     },
     "execution_count": 12,
     "metadata": {},
     "output_type": "execute_result"
    },
    {
     "data": {
      "image/png": "[encoded data removed]",
      "text/plain": [
       "<Figure size 432x288 with 1 Axes>"
      ]
     },
     "metadata": {
      "needs_background": "light"
     },
     "output_type": "display_data"
    }
   ],
   "source": [
    "%matplotlib inline\n",
    "import matplotlib.pyplot as plt\n",
    "\n",
    "plt.imshow(image, cmap='gray')"
   ]
  },
  {
   "cell_type": "markdown",
   "metadata": {},
   "source": [
    "As you can see the number 2 is printed to the screen"
   ]
  },
  {
   "cell_type": "markdown",
   "metadata": {},
   "source": [
    "We can also view an image by printing its RGB values"
   ]
  },
  {
   "cell_type": "code",
   "execution_count": 13,
   "metadata": {},
   "outputs": [
    {
     "name": "stdout",
     "output_type": "stream",
     "text": [
      "\n",
      "............................\n",
      "............................\n",
      "............................\n",
      "..........#######...........\n",
      ".........#########..........\n",
      "........##########..........\n",
      ".......######.####..........\n",
      ".......####...####..........\n",
      "........##....####..........\n",
      ".............#####..........\n",
      "............#####...........\n",
      "............####............\n",
      "...........#####............\n",
      "..........#####.............\n",
      "..........####..............\n",
      ".........#####..............\n",
      "........#####...............\n",
      "........#####...............\n",
      "........####................\n",
      "........#########.#########.\n",
      "........###################.\n",
      "........###################.\n",
      ".........############.......\n",
      "............................\n",
      "............................\n",
      "............................\n",
      "............................\n",
      "............................"
     ]
    }
   ],
   "source": [
    "\n",
    "# Visualise image by printing out its values(. for 0 and # for rgb)\n",
    "for x in image:\n",
    "    print()\n",
    "    for y in x:\n",
    "        if(y != 255):\n",
    "            print(\"#\", end=\"\")\n",
    "        else:\n",
    "            print(\".\", end=\"\")"
   ]
  },
  {
   "cell_type": "markdown",
   "metadata": {},
   "source": [
    "## Read Label Data"
   ]
  },
  {
   "cell_type": "markdown",
   "metadata": {},
   "source": [
    "The label files are a lot like the image files. The first 4 bytes give information about the file."
   ]
  },
  {
   "cell_type": "code",
   "execution_count": 21,
   "metadata": {},
   "outputs": [
    {
     "name": "stdout",
     "output_type": "stream",
     "text": [
      "Magic Number    :  b\"\\x00\\x00'\\x10\"\n",
      "Number of items :  10000\n",
      "Display Label as bytes   :  b'\\x02'\n",
      "Display Label as Integer :  2\n"
     ]
    }
   ],
   "source": [
    "\n",
    "# read labels from file\n",
    "with gzip.open('data/t10k-labels-idx1-ubyte.gz', 'rb') as f:\n",
    "    labels = f.read()\n",
    "\n",
    "print(\"Magic Number    : \",labels[4:8])  \n",
    "print(\"Number of items : \",int.from_bytes(labels[4:8], byteorder=\"big\"))  \n",
    "\n",
    "# Display Label as bytes    \n",
    "print(\"Display Label as bytes   : \",labels[9:10])\n",
    "# Desplay  Label as int\n",
    "print(\"Display Label as Integer : \",int.from_bytes(labels[9:10], byteorder=\"big\"))"
   ]
  },
  {
   "cell_type": "code",
   "execution_count": null,
   "metadata": {},
   "outputs": [],
   "source": []
  },
  {
   "cell_type": "markdown",
   "metadata": {},
   "source": [
    "# Refrences"
   ]
  },
  {
   "cell_type": "code",
   "execution_count": null,
   "metadata": {},
   "outputs": [],
   "source": [
    "https://docs.python.org/3/library/gzip.html"
   ]
  }
 ],
 "metadata": {
  "kernelspec": {
   "display_name": "Python 3",
   "language": "python",
   "name": "python3"
  },
  "language_info": {
   "codemirror_mode": {
    "name": "ipython",
    "version": 3
   },
   "file_extension": ".py",
   "mimetype": "text/x-python",
   "name": "python",
   "nbconvert_exporter": "python",
   "pygments_lexer": "ipython3",
   "version": "3.7.0"
  }
 },
 "nbformat": 4,
 "nbformat_minor": 2
}
