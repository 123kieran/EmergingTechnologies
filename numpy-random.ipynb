{
 "cells": [
  {
   "cell_type": "markdown",
   "metadata": {},
   "source": [
    "# Numpy Random"
   ]
  },
  {
   "cell_type": "markdown",
   "metadata": {},
   "source": [
    "# Introduction"
   ]
  },
  {
   "cell_type": "markdown",
   "metadata": {},
   "source": [
    "NumPy is the fundamental libray for scientific computing with Python. The random package found in the Numpy library and is mainly used for generating random data. The package is broken down into four sections:\n",
    "\n",
    "-Simple random data\n",
    "-Permutations\n",
    "-Distributions\n",
    "-Random generator\n",
    "\n",
    "This notebook will be divided into four sections based on these headings, showing and explaining examples of functions in eachof these sections."
   ]
  },
  {
   "cell_type": "markdown",
   "metadata": {},
   "source": [
    "To use the numpy.random package, the library must be imported like so:"
   ]
  },
  {
   "cell_type": "code",
   "execution_count": null,
   "metadata": {},
   "outputs": [],
   "source": [
    "import numpy as np"
   ]
  },
  {
   "cell_type": "markdown",
   "metadata": {},
   "source": [
    "# Simple Random Data"
   ]
  },
  {
   "cell_type": "markdown",
   "metadata": {},
   "source": [
    "There are many functions in this part of the Numpy.random package. Such as:\n",
    "    -rand\n",
    "    -randn\n",
    "    -randint\n",
    "    -random_integers\n",
    "    -random_sample\n",
    "    -random\n",
    "    -ranf\n",
    "    -sample\n",
    "    -choice\n",
    "    -bytes\n",
    "This notebook will contain examples of a few of these functions."
   ]
  },
  {
   "cell_type": "markdown",
   "metadata": {},
   "source": [
    "# Example 1- numpy.ramdom.rand"
   ]
  },
  {
   "cell_type": "markdown",
   "metadata": {},
   "source": [
    "This creates an Array of the given shape and populates it with random samples."
   ]
  },
  {
   "cell_type": "code",
   "execution_count": 4,
   "metadata": {},
   "outputs": [
    {
     "data": {
      "text/plain": [
       "array([[[0.25803112, 0.44974468, 0.28630916, 0.56378454],\n",
       "        [0.66944059, 0.22903839, 0.98778406, 0.19052568],\n",
       "        [0.49463161, 0.98639229, 0.78913377, 0.73002523],\n",
       "        [0.69761412, 0.96243894, 0.53311839, 0.94013564],\n",
       "        [0.85725594, 0.3756662 , 0.88654351, 0.2290743 ],\n",
       "        [0.23613383, 0.45545684, 0.78461634, 0.4874203 ],\n",
       "        [0.76057669, 0.38621063, 0.81778056, 0.22329791]],\n",
       "\n",
       "       [[0.84076809, 0.29225731, 0.59013607, 0.71338896],\n",
       "        [0.37133971, 0.05267921, 0.71014707, 0.76144098],\n",
       "        [0.6682191 , 0.74581523, 0.9426667 , 0.47078517],\n",
       "        [0.38326361, 0.35662842, 0.43736121, 0.36344545],\n",
       "        [0.52787138, 0.66884129, 0.50631501, 0.07234445],\n",
       "        [0.32717569, 0.53119977, 0.28292833, 0.61705114],\n",
       "        [0.81403012, 0.57477868, 0.88988001, 0.36684279]]])"
      ]
     },
     "execution_count": 4,
     "metadata": {},
     "output_type": "execute_result"
    }
   ],
   "source": [
    "# Import numpy for random package\n",
    "import numpy as np\n",
    "# Generate our random numbers\n",
    "np.random.rand(2,7,4)"
   ]
  }
 ],
 "metadata": {
  "kernelspec": {
   "display_name": "Python 3",
   "language": "python",
   "name": "python3"
  },
  "language_info": {
   "codemirror_mode": {
    "name": "ipython",
    "version": 3
   },
   "file_extension": ".py",
   "mimetype": "text/x-python",
   "name": "python",
   "nbconvert_exporter": "python",
   "pygments_lexer": "ipython3",
   "version": "3.7.0"
  }
 },
 "nbformat": 4,
 "nbformat_minor": 2
}
