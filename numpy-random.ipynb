{
 "cells": [
  {
   "cell_type": "markdown",
   "metadata": {},
   "source": [
    "# Numpy Random"
   ]
  },
  {
   "cell_type": "markdown",
   "metadata": {},
   "source": [
    "# Introduction"
   ]
  },
  {
   "cell_type": "markdown",
   "metadata": {},
   "source": [
    "NumPy is the fundamental libray for scientific computing with Python. The random package found in the Numpy library and is mainly used for generating random data. The package is broken down into four sections:\n",
    "\n",
    "- Simple random data\n",
    "- Permutations\n",
    "- Distributions\n",
    "- Random generator\n",
    "\n",
    "This notebook will be divided into four sections based on these headings, showing and explaining examples of functions in eachof these sections."
   ]
  },
  {
   "cell_type": "markdown",
   "metadata": {},
   "source": [
    "To use the numpy.random package, the library must be imported like so:"
   ]
  },
  {
   "cell_type": "code",
   "execution_count": null,
   "metadata": {},
   "outputs": [],
   "source": [
    "import numpy as np"
   ]
  },
  {
   "cell_type": "markdown",
   "metadata": {},
   "source": [
    "# Simple Random Data"
   ]
  },
  {
   "cell_type": "markdown",
   "metadata": {},
   "source": [
    "There are many functions in this part of the Numpy.random package. Such as:\n",
    "   - rand\n",
    "   - randn\n",
    "   - randint\n",
    "   - random_integers\n",
    "   - random_sample\n",
    "   - random\n",
    "   - ranf\n",
    "   - sample\n",
    "   - choice\n",
    "   - bytes\n",
    "This notebook will contain examples of a few of these functions."
   ]
  },
  {
   "cell_type": "markdown",
   "metadata": {},
   "source": [
    "# Example 1- numpy.ramdom.rand"
   ]
  },
  {
   "cell_type": "markdown",
   "metadata": {},
   "source": [
    "This creates an Array of the given shape and populates it with random samples."
   ]
  },
  {
   "cell_type": "code",
   "execution_count": 4,
   "metadata": {},
   "outputs": [
    {
     "data": {
      "text/plain": [
       "array([[[0.25803112, 0.44974468, 0.28630916, 0.56378454],\n",
       "        [0.66944059, 0.22903839, 0.98778406, 0.19052568],\n",
       "        [0.49463161, 0.98639229, 0.78913377, 0.73002523],\n",
       "        [0.69761412, 0.96243894, 0.53311839, 0.94013564],\n",
       "        [0.85725594, 0.3756662 , 0.88654351, 0.2290743 ],\n",
       "        [0.23613383, 0.45545684, 0.78461634, 0.4874203 ],\n",
       "        [0.76057669, 0.38621063, 0.81778056, 0.22329791]],\n",
       "\n",
       "       [[0.84076809, 0.29225731, 0.59013607, 0.71338896],\n",
       "        [0.37133971, 0.05267921, 0.71014707, 0.76144098],\n",
       "        [0.6682191 , 0.74581523, 0.9426667 , 0.47078517],\n",
       "        [0.38326361, 0.35662842, 0.43736121, 0.36344545],\n",
       "        [0.52787138, 0.66884129, 0.50631501, 0.07234445],\n",
       "        [0.32717569, 0.53119977, 0.28292833, 0.61705114],\n",
       "        [0.81403012, 0.57477868, 0.88988001, 0.36684279]]])"
      ]
     },
     "execution_count": 4,
     "metadata": {},
     "output_type": "execute_result"
    }
   ],
   "source": [
    "# Import numpy for random package\n",
    "import numpy as np\n",
    "# Generate our random numbers\n",
    "np.random.rand(2,7,4)"
   ]
  },
  {
   "cell_type": "markdown",
   "metadata": {},
   "source": [
    "# Example 2- numpy.ramdom.randn"
   ]
  },
  {
   "cell_type": "markdown",
   "metadata": {},
   "source": [
    "This returns a sample/samples from the “standard normal” distribution."
   ]
  },
  {
   "cell_type": "code",
   "execution_count": 7,
   "metadata": {},
   "outputs": [
    {
     "data": {
      "text/plain": [
       "array([[[-1.46501911, -0.76762712, -1.14985006,  0.27317362],\n",
       "        [ 0.89499989, -1.35529308, -0.74808713,  0.07408884],\n",
       "        [-0.18273017, -0.01221952,  0.20517585, -2.18579717],\n",
       "        [-1.00156339,  1.3538111 , -0.27467332,  1.13114814],\n",
       "        [-0.20693101, -1.34515277, -1.58489019, -1.59012264],\n",
       "        [ 0.17471893,  0.11941868, -0.10388937, -0.23568347],\n",
       "        [ 1.95085612,  0.51777826,  0.63145044,  0.63843163]],\n",
       "\n",
       "       [[-1.14121328,  1.34928532, -0.64820457, -0.83556523],\n",
       "        [-0.10100146,  0.5436473 ,  0.55137074, -0.18335567],\n",
       "        [ 0.76983497, -0.53357292,  0.5395786 ,  0.00474634],\n",
       "        [ 0.43943037,  0.30189029,  1.23809062, -0.15800626],\n",
       "        [ 0.35296021, -0.0933913 , -0.58626067,  0.11224804],\n",
       "        [-1.9666799 ,  0.30782776, -0.19639514,  0.65910858],\n",
       "        [-1.4857614 ,  1.14557243,  0.14032117, -1.07505449]]])"
      ]
     },
     "execution_count": 7,
     "metadata": {},
     "output_type": "execute_result"
    }
   ],
   "source": [
    "# Import numpy for random package\n",
    "import numpy as np\n",
    "\n",
    "# Generate our random numbers\n",
    "np.random.randn(2,7,4)"
   ]
  },
  {
   "cell_type": "markdown",
   "metadata": {},
   "source": [
    "# Example 3- numpy.ramdom.randint"
   ]
  },
  {
   "cell_type": "markdown",
   "metadata": {},
   "source": [
    "This returns a random integer from low to high, where it is optional to state the size of the array returned, the default is 1."
   ]
  },
  {
   "cell_type": "code",
   "execution_count": 5,
   "metadata": {},
   "outputs": [
    {
     "data": {
      "text/plain": [
       "7"
      ]
     },
     "execution_count": 5,
     "metadata": {},
     "output_type": "execute_result"
    }
   ],
   "source": [
    "# Generate a random integer between 3 and 9\n",
    "np.random.randint(3,9)"
   ]
  },
  {
   "cell_type": "code",
   "execution_count": 6,
   "metadata": {},
   "outputs": [
    {
     "data": {
      "text/plain": [
       "array([ 5,  6, 10,  5])"
      ]
     },
     "execution_count": 6,
     "metadata": {},
     "output_type": "execute_result"
    }
   ],
   "source": [
    "# Generate an array of 4 elements with random integers between 3 and 18\n",
    "np.random.randint(3,18,size=4)"
   ]
  },
  {
   "cell_type": "markdown",
   "metadata": {},
   "source": [
    "# Example 4- numpy.ramdom.bytes"
   ]
  },
  {
   "cell_type": "code",
   "execution_count": null,
   "metadata": {},
   "outputs": [],
   "source": [
    "This returns random bytes in the form of a string. The size of the string is determined by the integer within the given parameter."
   ]
  },
  {
   "cell_type": "code",
   "execution_count": 11,
   "metadata": {},
   "outputs": [
    {
     "data": {
      "text/plain": [
       "b'\\xc9\\xba\\xb0\\xd2\\xba\\x9b\\xa8\\xaf\\x08d\\xb1y\\xb5\\x02j]L2\\xe1\\x888\\x18\\x9d_\\x89@:\\xec\\x17g'"
      ]
     },
     "execution_count": 11,
     "metadata": {},
     "output_type": "execute_result"
    }
   ],
   "source": [
    "# Import numpy for random package\n",
    "import numpy as np\n",
    "\n",
    "# Generate our random bytes\n",
    "np.random.bytes(30)"
   ]
  },
  {
   "cell_type": "markdown",
   "metadata": {},
   "source": [
    "# Permutations"
   ]
  },
  {
   "cell_type": "markdown",
   "metadata": {},
   "source": [
    "A permutation can be defined as a collection of members to a set where order is important. The process of re-odering its elements is know as permuting.\n",
    "This section of numpy.random only contains two functions:\n",
    "- random.shuffle\n",
    "- random.permutation \n",
    "I will look at these functions and give a brief explanation, along with examples."
   ]
  },
  {
   "cell_type": "markdown",
   "metadata": {},
   "source": [
    "# Example 1- numpy.random.shuffle"
   ]
  },
  {
   "cell_type": "markdown",
   "metadata": {},
   "source": [
    "The function modifies a sequence by shuffling the contents into different indexes."
   ]
  },
  {
   "cell_type": "code",
   "execution_count": 12,
   "metadata": {},
   "outputs": [
    {
     "data": {
      "text/plain": [
       "['Orange', 'Blue', 'White', 'Yellow', 'Green', 'Red', 'Black']"
      ]
     },
     "execution_count": 12,
     "metadata": {},
     "output_type": "execute_result"
    }
   ],
   "source": [
    "# First we declare and initiate an Array\n",
    "shape_array = [\"Red\", \"Blue\", \"Green\", \"Black\", \"White\", \"Yellow\", \"Orange\"]\n",
    "\n",
    "# Then we shuffle our array by calling the 'shuffle' function\n",
    "np.random.shuffle(shape_array)\n",
    "\n",
    "# Output array\n",
    "shape_array"
   ]
  },
  {
   "cell_type": "markdown",
   "metadata": {},
   "source": [
    "In the above example, we can see that the array is no longer arranged sequentially, but instead has been shuffled. It is important to remember though, that if you are using a multiple dimension array, that this function only shuffles the array along the first axis of the array."
   ]
  },
  {
   "cell_type": "code",
   "execution_count": 21,
   "metadata": {},
   "outputs": [
    {
     "data": {
      "text/plain": [
       "[['Black', 'White', 'Yellow'],\n",
       " ['Orange', 'Pink', 'Grey', 'Brown'],\n",
       " ['Red', 'Green', 'Blue']]"
      ]
     },
     "execution_count": 21,
     "metadata": {},
     "output_type": "execute_result"
    }
   ],
   "source": [
    "shape_array = ([[ \"Red\", \"Green\", \"Blue\"],\n",
    "       [ \"Black\", \"White\", \"Yellow\"],\n",
    "       [\"Orange\", \"Pink\", \"Grey\", \"Brown\"]])\n",
    "np.random.shuffle(shape_array)\n",
    "shape_array"
   ]
  },
  {
   "cell_type": "code",
   "execution_count": null,
   "metadata": {},
   "outputs": [],
   "source": [
    "As you can see, it only shuffled the sub-arrays, not the arrays themselves."
   ]
  },
  {
   "cell_type": "markdown",
   "metadata": {},
   "source": [
    "# Example 2- numpy.random.permutation"
   ]
  },
  {
   "cell_type": "markdown",
   "metadata": {},
   "source": [
    "This works like numpy.random,shuffle, It will randomly permute a sequence, or return a permuted range.\n",
    "For example, it can create an array and randomize it:"
   ]
  },
  {
   "cell_type": "code",
   "execution_count": 22,
   "metadata": {},
   "outputs": [
    {
     "data": {
      "text/plain": [
       "array([6, 9, 3, 0, 4, 5, 7, 8, 2, 1])"
      ]
     },
     "execution_count": 22,
     "metadata": {},
     "output_type": "execute_result"
    }
   ],
   "source": [
    "# Generate our random numbers\n",
    "np.random.permutation(10)"
   ]
  },
  {
   "cell_type": "code",
   "execution_count": null,
   "metadata": {},
   "outputs": [],
   "source": [
    "It can also randomize a multi-dimensional array:"
   ]
  },
  {
   "cell_type": "code",
   "execution_count": 28,
   "metadata": {},
   "outputs": [
    {
     "data": {
      "text/plain": [
       "array([[10, 11, 12, 13, 14],\n",
       "       [ 0,  1,  2,  3,  4],\n",
       "       [ 5,  6,  7,  8,  9]])"
      ]
     },
     "execution_count": 28,
     "metadata": {},
     "output_type": "execute_result"
    }
   ],
   "source": [
    "# Declare and Create a 3 dimensional array of size 5\n",
    "array = np.arange(15).reshape((3, 5))\n",
    "# Call our permutation function\n",
    "np.random.permutation(array)\n"
   ]
  },
  {
   "cell_type": "markdown",
   "metadata": {},
   "source": [
    "# Distributions"
   ]
  },
  {
   "cell_type": "markdown",
   "metadata": {},
   "source": [
    "The distribution of a statistical data set (or a population) is a listing or function showing all the possible values (or intervals) of the data and how often they occur. When a distribution of categorical data is organized, you see the number or percentage of individuals in each group. When a distribution of numerical data is organized, they’re often ordered from smallest to largest, broken into reasonably sized groups (if appropriate), and then put into graphs and charts to examine the shape, center, and amount of variability in the data.\n",
    "\n",
    "In the numpy.random package there are 35 different distributions that can be used. In the below examples, we will talk about a couple of the more common ones."
   ]
  },
  {
   "cell_type": "markdown",
   "metadata": {},
   "source": [
    "# Example 1- numpy.random.normal"
   ]
  },
  {
   "cell_type": "markdown",
   "metadata": {},
   "source": [
    "This function is used to draw graphs from random samples from a normal (Gaussian) distribution."
   ]
  },
  {
   "cell_type": "markdown",
   "metadata": {},
   "source": [
    "In order to graph data we must import the matplotlib.pyplot package"
   ]
  },
  {
   "cell_type": "code",
   "execution_count": 77,
   "metadata": {},
   "outputs": [],
   "source": [
    "import matplotlib.pyplot as plt"
   ]
  },
  {
   "cell_type": "code",
   "execution_count": 82,
   "metadata": {},
   "outputs": [],
   "source": [
    "# Draw Samples From Distribution\n",
    "mu, sigma = 0, 0.1 # mean and standard deviation\n",
    "s = np.random.normal(mu, sigma, 1000)"
   ]
  },
  {
   "cell_type": "code",
   "execution_count": 83,
   "metadata": {},
   "outputs": [
    {
     "data": {
      "text/plain": [
       "True"
      ]
     },
     "execution_count": 83,
     "metadata": {},
     "output_type": "execute_result"
    }
   ],
   "source": [
    "# Verify the mean and the variance\n",
    "abs(mu - np.mean(s)) < 0.01"
   ]
  },
  {
   "cell_type": "code",
   "execution_count": 84,
   "metadata": {},
   "outputs": [
    {
     "data": {
      "text/plain": [
       "True"
      ]
     },
     "execution_count": 84,
     "metadata": {},
     "output_type": "execute_result"
    }
   ],
   "source": [
    "# abs(sigma - np.std(s, ddof=1)) < 0.01\n",
    "abs(sigma - np.std(s, ddof=1)) < 0.01"
   ]
  },
  {
   "cell_type": "code",
   "execution_count": 85,
   "metadata": {},
   "outputs": [
    {
     "data": {
      "image/png": "[encoded data removed]",
      "text/plain": [
       "<Figure size 432x288 with 1 Axes>"
      ]
     },
     "metadata": {
      "needs_background": "light"
     },
     "output_type": "display_data"
    }
   ],
   "source": [
    "# Display the histogram of the samples, along with the probability density function\n",
    "count, bins, ignored = plt.hist(s, 30, density=True)\n",
    "plt.plot(bins, 1/(sigma * np.sqrt(2 * np.pi)) * np.exp( - (bins - mu)**2 / (2 * sigma**2) ), linewidth=2, color='r')\n",
    "plt.show()\n"
   ]
  },
  {
   "cell_type": "markdown",
   "metadata": {},
   "source": [
    "# Example 2- numpy.random.logistic"
   ]
  },
  {
   "cell_type": "markdown",
   "metadata": {},
   "source": [
    "This is used to draw graphs from a logistic distribution with specified parameters."
   ]
  },
  {
   "cell_type": "code",
   "execution_count": 80,
   "metadata": {},
   "outputs": [
    {
     "data": {
      "image/png": "[encoded data removed]",
      "text/plain": [
       "<Figure size 432x288 with 1 Axes>"
      ]
     },
     "metadata": {
      "needs_background": "light"
     },
     "output_type": "display_data"
    }
   ],
   "source": [
    "s = np.random.logistic(50, 1, 1000)\n",
    "count, bins, ignored = plt.hist(s, bins=50)"
   ]
  },
  {
   "cell_type": "markdown",
   "metadata": {},
   "source": [
    "# Example 3- numpy.random.poisson"
   ]
  },
  {
   "cell_type": "markdown",
   "metadata": {},
   "source": [
    "This is typically used to model the number of time an event occurs in a time interval."
   ]
  },
  {
   "cell_type": "code",
   "execution_count": 86,
   "metadata": {},
   "outputs": [
    {
     "data": {
      "text/plain": [
       "array([4, 5, 6, ..., 7, 7, 6])"
      ]
     },
     "execution_count": 86,
     "metadata": {},
     "output_type": "execute_result"
    }
   ],
   "source": [
    "# Generate samples\n",
    "s = np.random.poisson(5, 10000)\n",
    "s"
   ]
  },
  {
   "cell_type": "code",
   "execution_count": 87,
   "metadata": {},
   "outputs": [
    {
     "data": {
      "image/png": "[encoded data removed]",
      "text/plain": [
       "<Figure size 432x288 with 1 Axes>"
      ]
     },
     "metadata": {
      "needs_background": "light"
     },
     "output_type": "display_data"
    }
   ],
   "source": [
    "# Draw 100 values for lambda 100 and 500\n",
    "s = np.random.poisson(lam=(100., 500.), size=(100, 2))\n",
    "count, bins, ignored = plt.hist(s, 14, density=True)\n",
    "\n",
    "# Plot the results\n",
    "plt.show()"
   ]
  },
  {
   "cell_type": "markdown",
   "metadata": {},
   "source": [
    "# Example 4- numpy.random.uniform"
   ]
  },
  {
   "cell_type": "markdown",
   "metadata": {},
   "source": [
    "This is used to draw graphs from a uniform distribution. Samples are uniformly distributed over the half-open interval (low, high). This includes low but will exclude high. When using this function, you must include 3 parameters:\n",
    "- Lower boundary of the output interval\n",
    "- Upper boundary of the output interval\n",
    "- The size of the output shape\n",
    "See the following code snipped to see this functions use:"
   ]
  },
  {
   "cell_type": "code",
   "execution_count": 114,
   "metadata": {},
   "outputs": [
    {
     "data": {
      "image/png": "[encoded data removed]",
      "text/plain": [
       "<Figure size 432x288 with 1 Axes>"
      ]
     },
     "metadata": {
      "needs_background": "light"
     },
     "output_type": "display_data"
    }
   ],
   "source": [
    "s = np.random.uniform(-1,0,1000)\n",
    "np.all(s >= -1)\n",
    "np.all(s < 0)\n",
    "count, bins, ignored = plt.hist(s, 15, density=True)\n",
    "plt.plot(bins, np.ones_like(bins), linewidth=2, color='r')\n",
    "plt.show()"
   ]
  },
  {
   "cell_type": "markdown",
   "metadata": {},
   "source": [
    "# Example 4- numpy.random.binomial"
   ]
  },
  {
   "cell_type": "markdown",
   "metadata": {},
   "source": [
    "Binomial distribution can be very useful when visualizing data where there are only two possible outcomes of a specific event. the perfect example to use for this distribution would be a coin flip scenario. The binomial distribution allows us to visualise a sample of random outcomes for when for example a coin is flipped."
   ]
  },
  {
   "cell_type": "code",
   "execution_count": 115,
   "metadata": {},
   "outputs": [
    {
     "data": {
      "text/plain": [
       "array([58, 46, 53, 55, 60, 46, 51, 55, 51, 41, 50, 48, 49, 49, 54, 45, 53,\n",
       "       45, 49, 52, 51, 50, 46, 48, 54, 52, 51, 48, 52, 46, 50, 45, 53, 42,\n",
       "       53, 48, 56, 49, 51, 45, 47, 45, 54, 46, 54, 51, 60, 52, 50, 57, 54,\n",
       "       45, 53, 50, 44, 48, 43, 53, 48, 43, 55, 52, 48, 55, 57, 50, 49, 56,\n",
       "       50, 54, 52, 58, 53, 53, 53, 43, 37, 35, 58, 54, 50, 54, 52, 48, 52,\n",
       "       53, 49, 59, 52, 48, 45, 52, 52, 41, 47, 59, 53, 49, 60, 43, 48, 55,\n",
       "       40, 39, 55, 46, 47, 54, 41, 48, 50, 50, 49, 49, 47, 49, 55, 53, 55,\n",
       "       51, 51, 48, 51, 51, 50, 55, 47, 56, 51, 45, 56, 44, 52, 45, 57, 57,\n",
       "       50, 53, 51, 47, 44, 55, 45, 49, 47, 52, 58, 54, 56, 50, 56, 55, 54,\n",
       "       55, 44, 56, 46, 54, 53, 42, 53, 45, 42, 53, 53, 48, 51, 50, 51, 53,\n",
       "       52, 50, 47, 41, 51, 55, 46, 43, 52, 48, 56, 53, 47, 52, 47, 44, 45,\n",
       "       54, 39, 47, 54, 57, 46, 60, 52, 52, 53, 56, 45, 50, 58, 38, 46, 47,\n",
       "       46, 54, 49, 47, 59, 47, 45, 47, 60, 50, 48, 55, 50, 50, 48, 38, 50,\n",
       "       50, 42, 50, 44, 54, 51, 52, 49, 57, 47, 46, 47, 44, 50, 47, 48, 57,\n",
       "       56, 48, 52, 54, 44, 54, 51, 46, 50, 48, 47, 42, 46, 45, 49, 58, 38,\n",
       "       47, 44, 53, 56, 56, 47, 51, 53, 49, 47, 48, 49, 56, 52, 45, 49, 53,\n",
       "       57, 58, 48, 43, 53, 48, 42, 58, 61, 51, 49, 52, 50, 44, 45, 55, 54,\n",
       "       47, 49, 46, 57, 51, 53, 46, 54, 48, 50, 45, 46, 55, 55, 49, 52, 47,\n",
       "       42, 51, 45, 57, 51, 49, 53, 45, 50, 49, 53, 57, 53, 51, 56, 54, 57,\n",
       "       43, 52, 44, 59, 51, 55, 40, 50, 52, 44, 44, 42, 44, 48, 50, 49, 52,\n",
       "       54, 56, 39, 45, 50, 49, 45, 45, 55, 48, 52, 44, 54, 47, 43, 46, 55,\n",
       "       50, 48, 53, 45, 50, 54, 57, 44, 47, 50, 52, 52, 49, 48, 59, 51, 54,\n",
       "       42, 41, 40, 45, 55, 53, 60, 56, 58, 50, 45, 51, 46, 54, 45, 49, 51,\n",
       "       48, 49, 50, 48, 49, 50, 56, 49, 49, 47, 50, 49, 46, 59, 50, 45, 46,\n",
       "       52, 54, 58, 56, 55, 41, 51, 52, 56, 57, 55, 47, 54, 50, 47, 53, 47,\n",
       "       60, 51, 46, 48, 50, 53, 52, 53, 55, 47, 48, 47, 51, 58, 52, 46, 54,\n",
       "       59, 50, 51, 49, 49, 53, 53, 42, 50, 57, 53, 47, 46, 50, 53, 56, 53,\n",
       "       56, 50, 44, 46, 56, 49, 57, 55, 42, 50, 59, 46, 43, 42, 62, 56, 48,\n",
       "       47, 56, 54, 50, 52, 54, 51, 49, 49, 49, 50, 48, 54, 46, 44, 45, 53,\n",
       "       55, 48, 48, 50, 48, 60, 47, 51, 47, 44, 56, 55, 47, 54, 56, 47, 51,\n",
       "       59, 43, 49, 47, 42, 56, 55, 47, 46, 46, 49, 55, 62, 47, 43, 55, 51,\n",
       "       51, 54, 51, 58, 52, 44, 44, 44, 49, 51, 47, 50, 48, 53, 44, 41, 57,\n",
       "       62, 49, 52, 43, 51, 49, 44, 51, 48, 57, 52, 44, 58, 53, 47, 51, 48,\n",
       "       46, 53, 53, 49, 46, 47, 51, 41, 54, 39, 56, 51, 49, 50, 44, 50, 46,\n",
       "       52, 42, 40, 54, 55, 59, 51, 53, 58, 56, 55, 55, 52, 50, 52, 53, 55,\n",
       "       56, 57, 52, 55, 45, 51, 53, 46, 52, 56, 50, 41, 50, 46, 42, 54, 60,\n",
       "       51, 54, 49, 47, 55, 42, 54, 51, 54, 55, 49, 54, 61, 56, 58, 56, 53,\n",
       "       45, 42, 56, 49, 42, 43, 53, 47, 61, 54, 45, 56, 43, 50, 52, 43, 49,\n",
       "       64, 55, 57, 46, 50, 54, 43, 54, 51, 60, 45, 52, 46, 49, 43, 53, 62,\n",
       "       47, 55, 44, 51, 41, 49, 52, 60, 44, 56, 48, 39, 48, 57, 56, 46, 50,\n",
       "       53, 50, 55, 47, 55, 45, 52, 56, 51, 53, 54, 48, 49, 44, 43, 46, 50,\n",
       "       47, 47, 52, 47, 45, 51, 45, 56, 51, 48, 48, 53, 48, 43, 56, 45, 43,\n",
       "       47, 51, 46, 53, 59, 49, 45, 52, 46, 50, 50, 59, 49, 45, 53, 50, 60,\n",
       "       55, 51, 52, 50, 49, 44, 53, 41, 47, 50, 50, 51, 43, 58, 48, 44, 51,\n",
       "       42, 53, 56, 48, 54, 51, 47, 58, 47, 51, 51, 55, 49, 54, 45, 48, 56,\n",
       "       54, 59, 59, 56, 46, 55, 52, 55, 52, 50, 59, 44, 52, 57, 47, 52, 52,\n",
       "       55, 45, 47, 50, 46, 54, 45, 51, 47, 49, 58, 47, 53, 48, 51, 49, 51,\n",
       "       46, 42, 51, 49, 49, 55, 57, 51, 42, 40, 54, 56, 48, 55, 50, 50, 46,\n",
       "       51, 50, 40, 39, 53, 50, 50, 56, 55, 49, 48, 51, 54, 49, 53, 44, 47,\n",
       "       50, 45, 48, 44, 45, 49, 43, 46, 49, 39, 52, 45, 45, 48, 50, 45, 50,\n",
       "       41, 55, 44, 55, 45, 52, 48, 46, 47, 51, 46, 49, 52, 52, 42, 49, 58,\n",
       "       43, 46, 48, 47, 44, 56, 56, 48, 44, 47, 47, 57, 51, 54, 51, 52, 53,\n",
       "       48, 47, 47, 51, 48, 47, 52, 48, 42, 48, 45, 52, 48, 55, 54, 45, 50,\n",
       "       39, 50, 48, 52, 53, 51, 47, 63, 58, 61, 46, 55, 53, 56, 45, 47, 50,\n",
       "       54, 45, 50, 64, 48, 54, 55, 49, 50, 49, 49, 49, 51, 50, 45, 51, 59,\n",
       "       54, 43, 49, 52, 42, 48, 50, 52, 56, 48, 59, 51, 49, 58, 45, 48, 53,\n",
       "       48, 44, 48, 55, 50, 52, 51, 44, 44, 46, 52, 51, 56, 46, 46, 54, 46,\n",
       "       60, 53, 48, 51, 47, 55, 55, 52, 41, 43, 46, 48, 52, 52, 40, 48, 45,\n",
       "       49, 52, 39, 52, 56, 50, 55, 54, 50, 42, 52, 45, 48, 51])"
      ]
     },
     "execution_count": 115,
     "metadata": {},
     "output_type": "execute_result"
    }
   ],
   "source": [
    "s = np.random.binomial(100, 0.5, 1000) ### 100 coin flips, with a 0.5 chance of getting a heads\n",
    "s"
   ]
  },
  {
   "cell_type": "code",
   "execution_count": 116,
   "metadata": {},
   "outputs": [
    {
     "data": {
      "image/png": "[encoded data removed]",
      "text/plain": [
       "<Figure size 432x288 with 1 Axes>"
      ]
     },
     "metadata": {
      "needs_background": "light"
     },
     "output_type": "display_data"
    }
   ],
   "source": [
    "plt.ylabel(\" Frequency \")\n",
    "plt.xlabel(\" Values \")\n",
    "plt.hist(s)\n",
    "plt.show()"
   ]
  },
  {
   "cell_type": "markdown",
   "metadata": {},
   "source": [
    "Here, we can see that for most of the test cases, when the coin was flipped 100 times, it landed on heads almost 50 times."
   ]
  },
  {
   "cell_type": "code",
   "execution_count": 118,
   "metadata": {},
   "outputs": [
    {
     "data": {
      "image/png": "[encoded data removed]",
      "text/plain": [
       "<Figure size 432x288 with 1 Axes>"
      ]
     },
     "metadata": {
      "needs_background": "light"
     },
     "output_type": "display_data"
    }
   ],
   "source": [
    "s = np.random.binomial(100, (1/6), 1000) ### 100 dice rolls with 1/6 chance of getting a 6, done 1000 times\n",
    "plt.ylabel(\" Frequency \")\n",
    "plt.xlabel(\" Values \")\n",
    "plt.hist(s)\n",
    "plt.show()"
   ]
  },
  {
   "cell_type": "markdown",
   "metadata": {},
   "source": [
    "This clearly shows, that when a dice is rolled 100 times, the chances are that it will land on a 6 are between 15-20 of those 100 rolls."
   ]
  },
  {
   "cell_type": "markdown",
   "metadata": {},
   "source": [
    "# Random Generator"
   ]
  },
  {
   "cell_type": "markdown",
   "metadata": {},
   "source": [
    "In this final part of the notebook we will look at random number generation. Random number generators can be applied for  generating random numbers for the purposes of gambling or creating unpredictable results in a computer game.\n",
    "\n",
    "Random numbers are split into two categories:\n",
    "\n",
    "True Random Numbers\n",
    "Pseudorandom Numbers "
   ]
  },
  {
   "cell_type": "markdown",
   "metadata": {},
   "source": [
    "# Example 1- numpy.random.seed"
   ]
  },
  {
   "cell_type": "markdown",
   "metadata": {},
   "source": [
    "This function is used in conjuction with RandomState function. It is used to change the seed given in RandomState."
   ]
  },
  {
   "cell_type": "code",
   "execution_count": 119,
   "metadata": {},
   "outputs": [
    {
     "name": "stdout",
     "output_type": "stream",
     "text": [
      "[[0.15416284 0.7400497  0.26331502 0.53373939 0.01457496]\n",
      " [0.91874701 0.90071485 0.03342143 0.95694934 0.13720932]]\n"
     ]
    }
   ],
   "source": [
    "# set the seed\n",
    "np.random.seed(12)\n",
    "\n",
    "# Generate random number\n",
    "randomNumber = np.random.rand(2,5)\n",
    "print(randomNumber)"
   ]
  },
  {
   "cell_type": "markdown",
   "metadata": {},
   "source": [
    "# Example 2- numpy.random.RandomState"
   ]
  },
  {
   "cell_type": "markdown",
   "metadata": {},
   "source": [
    "This is a pseudo-random number generator. It exposes a number of methods for generating random numbers drawn from a variety of probability distributions. When using a seed with RandomState, it will always return the same number if the same seed is used. If a seed is not used, it will always return a new number."
   ]
  },
  {
   "cell_type": "code",
   "execution_count": 120,
   "metadata": {},
   "outputs": [
    {
     "name": "stdout",
     "output_type": "stream",
     "text": [
      "0.6936795270051179\n",
      "[[[0.28382835 0.60608318]\n",
      "  [0.94422514 0.85273554]\n",
      "  [0.00225923 0.52122603]\n",
      "  [0.55203763 0.48537741]]]\n"
     ]
    }
   ],
   "source": [
    "# Generate random seed\n",
    "randomSeed = np.random.RandomState(500)\n",
    "\n",
    "# Use randomSeed to generate random number\n",
    "print(randomSeed.rand())\n",
    "\n",
    "# Generate random array\n",
    "randomArray = np.random.rand(1,4,2)\n",
    "\n",
    "print(randomArray)"
   ]
  },
  {
   "cell_type": "markdown",
   "metadata": {},
   "source": [
    "# Refrences"
   ]
  },
  {
   "cell_type": "code",
   "execution_count": null,
   "metadata": {},
   "outputs": [],
   "source": [
    "https://docs.scipy.org/doc/numpy-1.15.1/reference/routines.random.html"
   ]
  }
 ],
 "metadata": {
  "kernelspec": {
   "display_name": "Python 3",
   "language": "python",
   "name": "python3"
  },
  "language_info": {
   "codemirror_mode": {
    "name": "ipython",
    "version": 3
   },
   "file_extension": ".py",
   "mimetype": "text/x-python",
   "name": "python",
   "nbconvert_exporter": "python",
   "pygments_lexer": "ipython3",
   "version": "3.7.0"
  }
 },
 "nbformat": 4,
 "nbformat_minor": 2
}
