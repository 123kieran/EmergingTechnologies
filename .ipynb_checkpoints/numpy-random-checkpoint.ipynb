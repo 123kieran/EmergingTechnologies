{
 "cells": [
  {
   "cell_type": "markdown",
   "metadata": {},
   "source": [
    "# Numpy Random"
   ]
  },
  {
   "cell_type": "markdown",
   "metadata": {},
   "source": [
    "# Introduction"
   ]
  },
  {
   "cell_type": "markdown",
   "metadata": {},
   "source": [
    "NumPy is the fundamental libray for scientific computing with Python. The random package found in the Numpy library and is mainly used for generating random data. The package is broken down into four sections:\n",
    "\n",
    "- Simple random data\n",
    "- Permutations\n",
    "- Distributions\n",
    "- Random generator\n",
    "\n",
    "This notebook will be divided into four sections based on these headings, showing and explaining examples of functions in eachof these sections."
   ]
  },
  {
   "cell_type": "markdown",
   "metadata": {},
   "source": [
    "To use the numpy.random package, the library must be imported like so:"
   ]
  },
  {
   "cell_type": "code",
   "execution_count": null,
   "metadata": {},
   "outputs": [],
   "source": [
    "import numpy as np"
   ]
  },
  {
   "cell_type": "markdown",
   "metadata": {},
   "source": [
    "# Simple Random Data"
   ]
  },
  {
   "cell_type": "markdown",
   "metadata": {},
   "source": [
    "There are many functions in this part of the Numpy.random package. Such as:\n",
    "   - rand\n",
    "   - randn\n",
    "   - randint\n",
    "   - random_integers\n",
    "   - random_sample\n",
    "   - random\n",
    "   - ranf\n",
    "   - sample\n",
    "   - choice\n",
    "   - bytes\n",
    "This notebook will contain examples of a few of these functions."
   ]
  },
  {
   "cell_type": "markdown",
   "metadata": {},
   "source": [
    "# Example 1- numpy.ramdom.rand"
   ]
  },
  {
   "cell_type": "markdown",
   "metadata": {},
   "source": [
    "This creates an Array of the given shape and populates it with random samples."
   ]
  },
  {
   "cell_type": "code",
   "execution_count": 4,
   "metadata": {},
   "outputs": [
    {
     "data": {
      "text/plain": [
       "array([[[0.25803112, 0.44974468, 0.28630916, 0.56378454],\n",
       "        [0.66944059, 0.22903839, 0.98778406, 0.19052568],\n",
       "        [0.49463161, 0.98639229, 0.78913377, 0.73002523],\n",
       "        [0.69761412, 0.96243894, 0.53311839, 0.94013564],\n",
       "        [0.85725594, 0.3756662 , 0.88654351, 0.2290743 ],\n",
       "        [0.23613383, 0.45545684, 0.78461634, 0.4874203 ],\n",
       "        [0.76057669, 0.38621063, 0.81778056, 0.22329791]],\n",
       "\n",
       "       [[0.84076809, 0.29225731, 0.59013607, 0.71338896],\n",
       "        [0.37133971, 0.05267921, 0.71014707, 0.76144098],\n",
       "        [0.6682191 , 0.74581523, 0.9426667 , 0.47078517],\n",
       "        [0.38326361, 0.35662842, 0.43736121, 0.36344545],\n",
       "        [0.52787138, 0.66884129, 0.50631501, 0.07234445],\n",
       "        [0.32717569, 0.53119977, 0.28292833, 0.61705114],\n",
       "        [0.81403012, 0.57477868, 0.88988001, 0.36684279]]])"
      ]
     },
     "execution_count": 4,
     "metadata": {},
     "output_type": "execute_result"
    }
   ],
   "source": [
    "# Import numpy for random package\n",
    "import numpy as np\n",
    "# Generate our random numbers\n",
    "np.random.rand(2,7,4)"
   ]
  },
  {
   "cell_type": "markdown",
   "metadata": {},
   "source": [
    "# Example 2- numpy.ramdom.randn"
   ]
  },
  {
   "cell_type": "markdown",
   "metadata": {},
   "source": [
    "This returns a sample/samples from the “standard normal” distribution."
   ]
  },
  {
   "cell_type": "code",
   "execution_count": 7,
   "metadata": {},
   "outputs": [
    {
     "data": {
      "text/plain": [
       "array([[[-1.46501911, -0.76762712, -1.14985006,  0.27317362],\n",
       "        [ 0.89499989, -1.35529308, -0.74808713,  0.07408884],\n",
       "        [-0.18273017, -0.01221952,  0.20517585, -2.18579717],\n",
       "        [-1.00156339,  1.3538111 , -0.27467332,  1.13114814],\n",
       "        [-0.20693101, -1.34515277, -1.58489019, -1.59012264],\n",
       "        [ 0.17471893,  0.11941868, -0.10388937, -0.23568347],\n",
       "        [ 1.95085612,  0.51777826,  0.63145044,  0.63843163]],\n",
       "\n",
       "       [[-1.14121328,  1.34928532, -0.64820457, -0.83556523],\n",
       "        [-0.10100146,  0.5436473 ,  0.55137074, -0.18335567],\n",
       "        [ 0.76983497, -0.53357292,  0.5395786 ,  0.00474634],\n",
       "        [ 0.43943037,  0.30189029,  1.23809062, -0.15800626],\n",
       "        [ 0.35296021, -0.0933913 , -0.58626067,  0.11224804],\n",
       "        [-1.9666799 ,  0.30782776, -0.19639514,  0.65910858],\n",
       "        [-1.4857614 ,  1.14557243,  0.14032117, -1.07505449]]])"
      ]
     },
     "execution_count": 7,
     "metadata": {},
     "output_type": "execute_result"
    }
   ],
   "source": [
    "# Import numpy for random package\n",
    "import numpy as np\n",
    "\n",
    "# Generate our random numbers\n",
    "np.random.randn(2,7,4)"
   ]
  },
  {
   "cell_type": "markdown",
   "metadata": {},
   "source": [
    "# Example 3- numpy.ramdom.randint"
   ]
  },
  {
   "cell_type": "markdown",
   "metadata": {},
   "source": [
    "This returns a random integer from low to high, where it is optional to state the size of the array returned, the default is 1."
   ]
  },
  {
   "cell_type": "code",
   "execution_count": 5,
   "metadata": {},
   "outputs": [
    {
     "data": {
      "text/plain": [
       "7"
      ]
     },
     "execution_count": 5,
     "metadata": {},
     "output_type": "execute_result"
    }
   ],
   "source": [
    "# Generate a random integer between 3 and 9\n",
    "np.random.randint(3,9)"
   ]
  },
  {
   "cell_type": "code",
   "execution_count": 6,
   "metadata": {},
   "outputs": [
    {
     "data": {
      "text/plain": [
       "array([ 5,  6, 10,  5])"
      ]
     },
     "execution_count": 6,
     "metadata": {},
     "output_type": "execute_result"
    }
   ],
   "source": [
    "# Generate an array of 4 elements with random integers between 3 and 18\n",
    "np.random.randint(3,18,size=4)"
   ]
  }
 ],
 "metadata": {
  "kernelspec": {
   "display_name": "Python 3",
   "language": "python",
   "name": "python3"
  },
  "language_info": {
   "codemirror_mode": {
    "name": "ipython",
    "version": 3
   },
   "file_extension": ".py",
   "mimetype": "text/x-python",
   "name": "python",
   "nbconvert_exporter": "python",
   "pygments_lexer": "ipython3",
   "version": "3.7.0"
  }
 },
 "nbformat": 4,
 "nbformat_minor": 2
}
