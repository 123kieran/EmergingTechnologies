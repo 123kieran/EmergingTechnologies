{
 "cells": [
  {
   "cell_type": "markdown",
   "metadata": {},
   "source": [
    "# Numpy Random"
   ]
  },
  {
   "cell_type": "markdown",
   "metadata": {},
   "source": [
    "# Introduction"
   ]
  },
  {
   "cell_type": "markdown",
   "metadata": {},
   "source": [
    "NumPy is the fundamental libray for scientific computing with Python. The random package found in the Numpy library and is mainly used for generating random data. The package is broken down into four sections:\n",
    "\n",
    "- Simple random data\n",
    "- Permutations\n",
    "- Distributions\n",
    "- Random generator\n",
    "\n",
    "This notebook will be divided into four sections based on these headings, showing and explaining examples of functions in eachof these sections."
   ]
  },
  {
   "cell_type": "markdown",
   "metadata": {},
   "source": [
    "To use the numpy.random package, the library must be imported like so:"
   ]
  },
  {
   "cell_type": "code",
   "execution_count": null,
   "metadata": {},
   "outputs": [],
   "source": [
    "import numpy as np"
   ]
  },
  {
   "cell_type": "markdown",
   "metadata": {},
   "source": [
    "# Simple Random Data"
   ]
  },
  {
   "cell_type": "markdown",
   "metadata": {},
   "source": [
    "There are many functions in this part of the Numpy.random package. Such as:\n",
    "   - rand\n",
    "   - randn\n",
    "   - randint\n",
    "   - random_integers\n",
    "   - random_sample\n",
    "   - random\n",
    "   - ranf\n",
    "   - sample\n",
    "   - choice\n",
    "   - bytes\n",
    "This notebook will contain examples of a few of these functions."
   ]
  },
  {
   "cell_type": "markdown",
   "metadata": {},
   "source": [
    "# Example 1- numpy.ramdom.rand"
   ]
  },
  {
   "cell_type": "markdown",
   "metadata": {},
   "source": [
    "This creates an Array of the given shape and populates it with random samples."
   ]
  },
  {
   "cell_type": "code",
   "execution_count": 4,
   "metadata": {},
   "outputs": [
    {
     "data": {
      "text/plain": [
       "array([[[0.25803112, 0.44974468, 0.28630916, 0.56378454],\n",
       "        [0.66944059, 0.22903839, 0.98778406, 0.19052568],\n",
       "        [0.49463161, 0.98639229, 0.78913377, 0.73002523],\n",
       "        [0.69761412, 0.96243894, 0.53311839, 0.94013564],\n",
       "        [0.85725594, 0.3756662 , 0.88654351, 0.2290743 ],\n",
       "        [0.23613383, 0.45545684, 0.78461634, 0.4874203 ],\n",
       "        [0.76057669, 0.38621063, 0.81778056, 0.22329791]],\n",
       "\n",
       "       [[0.84076809, 0.29225731, 0.59013607, 0.71338896],\n",
       "        [0.37133971, 0.05267921, 0.71014707, 0.76144098],\n",
       "        [0.6682191 , 0.74581523, 0.9426667 , 0.47078517],\n",
       "        [0.38326361, 0.35662842, 0.43736121, 0.36344545],\n",
       "        [0.52787138, 0.66884129, 0.50631501, 0.07234445],\n",
       "        [0.32717569, 0.53119977, 0.28292833, 0.61705114],\n",
       "        [0.81403012, 0.57477868, 0.88988001, 0.36684279]]])"
      ]
     },
     "execution_count": 4,
     "metadata": {},
     "output_type": "execute_result"
    }
   ],
   "source": [
    "# Import numpy for random package\n",
    "import numpy as np\n",
    "# Generate our random numbers\n",
    "np.random.rand(2,7,4)"
   ]
  },
  {
   "cell_type": "markdown",
   "metadata": {},
   "source": [
    "# Example 2- numpy.ramdom.randn"
   ]
  },
  {
   "cell_type": "markdown",
   "metadata": {},
   "source": [
    "This returns a sample/samples from the “standard normal” distribution."
   ]
  },
  {
   "cell_type": "code",
   "execution_count": 7,
   "metadata": {},
   "outputs": [
    {
     "data": {
      "text/plain": [
       "array([[[-1.46501911, -0.76762712, -1.14985006,  0.27317362],\n",
       "        [ 0.89499989, -1.35529308, -0.74808713,  0.07408884],\n",
       "        [-0.18273017, -0.01221952,  0.20517585, -2.18579717],\n",
       "        [-1.00156339,  1.3538111 , -0.27467332,  1.13114814],\n",
       "        [-0.20693101, -1.34515277, -1.58489019, -1.59012264],\n",
       "        [ 0.17471893,  0.11941868, -0.10388937, -0.23568347],\n",
       "        [ 1.95085612,  0.51777826,  0.63145044,  0.63843163]],\n",
       "\n",
       "       [[-1.14121328,  1.34928532, -0.64820457, -0.83556523],\n",
       "        [-0.10100146,  0.5436473 ,  0.55137074, -0.18335567],\n",
       "        [ 0.76983497, -0.53357292,  0.5395786 ,  0.00474634],\n",
       "        [ 0.43943037,  0.30189029,  1.23809062, -0.15800626],\n",
       "        [ 0.35296021, -0.0933913 , -0.58626067,  0.11224804],\n",
       "        [-1.9666799 ,  0.30782776, -0.19639514,  0.65910858],\n",
       "        [-1.4857614 ,  1.14557243,  0.14032117, -1.07505449]]])"
      ]
     },
     "execution_count": 7,
     "metadata": {},
     "output_type": "execute_result"
    }
   ],
   "source": [
    "# Import numpy for random package\n",
    "import numpy as np\n",
    "\n",
    "# Generate our random numbers\n",
    "np.random.randn(2,7,4)"
   ]
  },
  {
   "cell_type": "markdown",
   "metadata": {},
   "source": [
    "# Example 3- numpy.ramdom.randint"
   ]
  },
  {
   "cell_type": "markdown",
   "metadata": {},
   "source": [
    "This returns a random integer from low to high, where it is optional to state the size of the array returned, the default is 1."
   ]
  },
  {
   "cell_type": "code",
   "execution_count": 5,
   "metadata": {},
   "outputs": [
    {
     "data": {
      "text/plain": [
       "7"
      ]
     },
     "execution_count": 5,
     "metadata": {},
     "output_type": "execute_result"
    }
   ],
   "source": [
    "# Generate a random integer between 3 and 9\n",
    "np.random.randint(3,9)"
   ]
  },
  {
   "cell_type": "code",
   "execution_count": 6,
   "metadata": {},
   "outputs": [
    {
     "data": {
      "text/plain": [
       "array([ 5,  6, 10,  5])"
      ]
     },
     "execution_count": 6,
     "metadata": {},
     "output_type": "execute_result"
    }
   ],
   "source": [
    "# Generate an array of 4 elements with random integers between 3 and 18\n",
    "np.random.randint(3,18,size=4)"
   ]
  },
  {
   "cell_type": "markdown",
   "metadata": {},
   "source": [
    "# Example 4- numpy.ramdom.bytes"
   ]
  },
  {
   "cell_type": "code",
   "execution_count": null,
   "metadata": {},
   "outputs": [],
   "source": [
    "This returns random bytes in the form of a string. The size of the string is determined by the integer within the given parameter."
   ]
  },
  {
   "cell_type": "code",
   "execution_count": 11,
   "metadata": {},
   "outputs": [
    {
     "data": {
      "text/plain": [
       "b'\\xc9\\xba\\xb0\\xd2\\xba\\x9b\\xa8\\xaf\\x08d\\xb1y\\xb5\\x02j]L2\\xe1\\x888\\x18\\x9d_\\x89@:\\xec\\x17g'"
      ]
     },
     "execution_count": 11,
     "metadata": {},
     "output_type": "execute_result"
    }
   ],
   "source": [
    "# Import numpy for random package\n",
    "import numpy as np\n",
    "\n",
    "# Generate our random bytes\n",
    "np.random.bytes(30)"
   ]
  },
  {
   "cell_type": "markdown",
   "metadata": {},
   "source": [
    "# Permutations"
   ]
  },
  {
   "cell_type": "markdown",
   "metadata": {},
   "source": [
    "A permutation can be defined as a collection of members to a set where order is important. The process of re-odering its elements is know as permuting.\n",
    "This section of numpy.random only contains two functions:\n",
    "- random.shuffle\n",
    "- random.permutation \n",
    "I will look at these functions and give a brief explanation, along with examples."
   ]
  },
  {
   "cell_type": "markdown",
   "metadata": {},
   "source": [
    "# Example 1- numpy.random.shuffle"
   ]
  },
  {
   "cell_type": "markdown",
   "metadata": {},
   "source": [
    "The function modifies a sequence by shuffling the contents into different indexes."
   ]
  },
  {
   "cell_type": "code",
   "execution_count": 12,
   "metadata": {},
   "outputs": [
    {
     "data": {
      "text/plain": [
       "['Orange', 'Blue', 'White', 'Yellow', 'Green', 'Red', 'Black']"
      ]
     },
     "execution_count": 12,
     "metadata": {},
     "output_type": "execute_result"
    }
   ],
   "source": [
    "# First we declare and initiate an Array\n",
    "shape_array = [\"Red\", \"Blue\", \"Green\", \"Black\", \"White\", \"Yellow\", \"Orange\"]\n",
    "\n",
    "# Then we shuffle our array by calling the 'shuffle' function\n",
    "np.random.shuffle(shape_array)\n",
    "\n",
    "# Output array\n",
    "shape_array"
   ]
  },
  {
   "cell_type": "markdown",
   "metadata": {},
   "source": [
    "In the above example, we can see that the array is no longer arranged sequentially, but instead has been shuffled. It is important to remember though, that if you are using a multiple dimension array, that this function only shuffles the array along the first axis of the array."
   ]
  },
  {
   "cell_type": "code",
   "execution_count": 21,
   "metadata": {},
   "outputs": [
    {
     "data": {
      "text/plain": [
       "[['Black', 'White', 'Yellow'],\n",
       " ['Orange', 'Pink', 'Grey', 'Brown'],\n",
       " ['Red', 'Green', 'Blue']]"
      ]
     },
     "execution_count": 21,
     "metadata": {},
     "output_type": "execute_result"
    }
   ],
   "source": [
    "shape_array = ([[ \"Red\", \"Green\", \"Blue\"],\n",
    "       [ \"Black\", \"White\", \"Yellow\"],\n",
    "       [\"Orange\", \"Pink\", \"Grey\", \"Brown\"]])\n",
    "np.random.shuffle(shape_array)\n",
    "shape_array"
   ]
  },
  {
   "cell_type": "code",
   "execution_count": null,
   "metadata": {},
   "outputs": [],
   "source": [
    "As you can see, it only shuffled the sub-arrays, not the arrays themselves."
   ]
  },
  {
   "cell_type": "markdown",
   "metadata": {},
   "source": [
    "# Example 2- numpy.random.permutation"
   ]
  },
  {
   "cell_type": "markdown",
   "metadata": {},
   "source": [
    "This works like numpy.random,shuffle, It will randomly permute a sequence, or return a permuted range.\n",
    "For example, it can create an array and randomize it:"
   ]
  },
  {
   "cell_type": "code",
   "execution_count": 22,
   "metadata": {},
   "outputs": [
    {
     "data": {
      "text/plain": [
       "array([6, 9, 3, 0, 4, 5, 7, 8, 2, 1])"
      ]
     },
     "execution_count": 22,
     "metadata": {},
     "output_type": "execute_result"
    }
   ],
   "source": [
    "# Generate our random numbers\n",
    "np.random.permutation(10)"
   ]
  },
  {
   "cell_type": "code",
   "execution_count": null,
   "metadata": {},
   "outputs": [],
   "source": [
    "It can also randomize a multi-dimensional array:"
   ]
  },
  {
   "cell_type": "code",
   "execution_count": 28,
   "metadata": {},
   "outputs": [
    {
     "data": {
      "text/plain": [
       "array([[10, 11, 12, 13, 14],\n",
       "       [ 0,  1,  2,  3,  4],\n",
       "       [ 5,  6,  7,  8,  9]])"
      ]
     },
     "execution_count": 28,
     "metadata": {},
     "output_type": "execute_result"
    }
   ],
   "source": [
    "# Declare and Create a 3 dimensional array of size 5\n",
    "array = np.arange(15).reshape((3, 5))\n",
    "# Call our permutation function\n",
    "np.random.permutation(array)\n"
   ]
  },
  {
   "cell_type": "markdown",
   "metadata": {},
   "source": [
    "# Distributions"
   ]
  },
  {
   "cell_type": "markdown",
   "metadata": {},
   "source": [
    "The distribution of a statistical data set (or a population) is a listing or function showing all the possible values (or intervals) of the data and how often they occur. When a distribution of categorical data is organized, you see the number or percentage of individuals in each group. When a distribution of numerical data is organized, they’re often ordered from smallest to largest, broken into reasonably sized groups (if appropriate), and then put into graphs and charts to examine the shape, center, and amount of variability in the data.\n",
    "\n",
    "In the numpy.random package there are 35 different distributions that can be used. In the below examples, we will talk about a couple of the more common ones."
   ]
  },
  {
   "cell_type": "markdown",
   "metadata": {},
   "source": [
    "# Example 1- numpy.random.normal"
   ]
  },
  {
   "cell_type": "markdown",
   "metadata": {},
   "source": [
    "This function is used to draw graphs from random samples from a normal (Gaussian) distribution."
   ]
  },
  {
   "cell_type": "markdown",
   "metadata": {},
   "source": [
    "In order to graph data we must import the matplotlib.pyplot package"
   ]
  },
  {
   "cell_type": "code",
   "execution_count": 77,
   "metadata": {},
   "outputs": [],
   "source": [
    "import matplotlib.pyplot as plt"
   ]
  },
  {
   "cell_type": "code",
   "execution_count": 82,
   "metadata": {},
   "outputs": [],
   "source": [
    "# Draw Samples From Distribution\n",
    "mu, sigma = 0, 0.1 # mean and standard deviation\n",
    "s = np.random.normal(mu, sigma, 1000)"
   ]
  },
  {
   "cell_type": "code",
   "execution_count": 83,
   "metadata": {},
   "outputs": [
    {
     "data": {
      "text/plain": [
       "True"
      ]
     },
     "execution_count": 83,
     "metadata": {},
     "output_type": "execute_result"
    }
   ],
   "source": [
    "# Verify the mean and the variance\n",
    "abs(mu - np.mean(s)) < 0.01"
   ]
  },
  {
   "cell_type": "code",
   "execution_count": 84,
   "metadata": {},
   "outputs": [
    {
     "data": {
      "text/plain": [
       "True"
      ]
     },
     "execution_count": 84,
     "metadata": {},
     "output_type": "execute_result"
    }
   ],
   "source": [
    "# abs(sigma - np.std(s, ddof=1)) < 0.01\n",
    "abs(sigma - np.std(s, ddof=1)) < 0.01"
   ]
  },
  {
   "cell_type": "code",
   "execution_count": 85,
   "metadata": {},
   "outputs": [
    {
     "data": {
      "image/png": "[encoded data removed]",
      "text/plain": [
       "<Figure size 432x288 with 1 Axes>"
      ]
     },
     "metadata": {
      "needs_background": "light"
     },
     "output_type": "display_data"
    }
   ],
   "source": [
    "# Display the histogram of the samples, along with the probability density function\n",
    "count, bins, ignored = plt.hist(s, 30, density=True)\n",
    "plt.plot(bins, 1/(sigma * np.sqrt(2 * np.pi)) * np.exp( - (bins - mu)**2 / (2 * sigma**2) ), linewidth=2, color='r')\n",
    "plt.show()\n"
   ]
  },
  {
   "cell_type": "markdown",
   "metadata": {},
   "source": [
    "# Example 2- numpy.random.logistic"
   ]
  },
  {
   "cell_type": "markdown",
   "metadata": {},
   "source": [
    "This is used to draw graphs from a logistic distribution with specified parameters."
   ]
  },
  {
   "cell_type": "code",
   "execution_count": 80,
   "metadata": {},
   "outputs": [
    {
     "data": {
      "image/png": "[encoded data removed]",
      "text/plain": [
       "<Figure size 432x288 with 1 Axes>"
      ]
     },
     "metadata": {
      "needs_background": "light"
     },
     "output_type": "display_data"
    }
   ],
   "source": [
    "s = np.random.logistic(50, 1, 1000)\n",
    "count, bins, ignored = plt.hist(s, bins=50)"
   ]
  },
  {
   "cell_type": "markdown",
   "metadata": {},
   "source": [
    "# Example 2- numpy.random."
   ]
  }
 ],
 "metadata": {
  "kernelspec": {
   "display_name": "Python 3",
   "language": "python",
   "name": "python3"
  },
  "language_info": {
   "codemirror_mode": {
    "name": "ipython",
    "version": 3
   },
   "file_extension": ".py",
   "mimetype": "text/x-python",
   "name": "python",
   "nbconvert_exporter": "python",
   "pygments_lexer": "ipython3",
   "version": "3.7.0"
  }
 },
 "nbformat": 4,
 "nbformat_minor": 2
}
